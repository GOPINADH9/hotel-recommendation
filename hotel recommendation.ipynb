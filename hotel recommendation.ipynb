{
 "cells": [
  {
   "cell_type": "code",
   "execution_count": null,
   "id": "878a951d",
   "metadata": {},
   "outputs": [],
   "source": [
    "import pandas as pd\n",
    "from sklearn.feature_extraction.text import TfidfVectorizer\n",
    "from sklearn.metrics.pairwise import linear_kernel\n",
    "\n",
    "# Sample hotel dataset\n",
    "data = {\n",
    "    'Hotel_Name': ['Hotel A', 'Hotel B', 'Hotel C', 'Hotel D'],\n",
    "    'Description': [\n",
    "        'A luxury hotel with ocean view rooms.',\n",
    "        'Affordable hotel near downtown.',\n",
    "        'Boutique hotel in a quiet neighborhood.',\n",
    "        'Family-friendly hotel with a pool.'\n",
    "    ]\n",
    "}\n",
    "\n",
    "df = pd.DataFrame(data)\n",
    "\n",
    "# User input (preferences)\n",
    "user_preferences = 'luxury ocean view'\n",
    "\n",
    "# Create a TF-IDF vectorizer\n",
    "tfidf_vectorizer = TfidfVectorizer(stop_words='english')\n",
    "tfidf_matrix = tfidf_vectorizer.fit_transform(df['Description'])\n",
    "\n",
    "# Compute the cosine similarity between user input and hotel descriptions\n",
    "cosine_sim = linear_kernel(tfidf_matrix, tfidf_vectorizer.transform([user_preferences]))\n",
    "\n",
    "# Get hotel recommendations based on similarity scores\n",
    "hotel_indices = cosine_sim.argsort()[0][::-1]  # Sort in descending order\n",
    "recommended_hotels = df['Hotel_Name'].iloc[hotel_indices].tolist()\n",
    "\n",
    "print(\"Recommended Hotels:\")\n",
    "for hotel in recommended_hotels:\n",
    "    print(hotel)\n"
   ]
  }
 ],
 "metadata": {
  "kernelspec": {
   "display_name": "Python 3 (ipykernel)",
   "language": "python",
   "name": "python3"
  },
  "language_info": {
   "codemirror_mode": {
    "name": "ipython",
    "version": 3
   },
   "file_extension": ".py",
   "mimetype": "text/x-python",
   "name": "python",
   "nbconvert_exporter": "python",
   "pygments_lexer": "ipython3",
   "version": "3.10.9"
  }
 },
 "nbformat": 4,
 "nbformat_minor": 5
}
